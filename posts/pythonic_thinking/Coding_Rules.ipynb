{
 "cells": [
  {
   "cell_type": "markdown",
   "id": "4752f127",
   "metadata": {},
   "source": [
    "---\n",
    "image: coding_rules.png\n",
    "title: Python Coding Rules\n",
    "subtitle: Python basics\n",
    "date: '2023-12-06'\n",
    "categories: [Python, Basics]\n",
    "author: Kunal Khurana\n",
    "jupyter: python3\n",
    "toc: True\n",
    "---"
   ]
  },
  {
   "cell_type": "markdown",
   "metadata": {},
   "source": [
    "## General"
   ]
  },
  {
   "cell_type": "markdown",
   "id": "7773bb6c",
   "metadata": {},
   "source": [
    "#### C-style formatting strings in Python (4 errors)\n",
    "- 4 errors (reversing order gives traceback)\n",
    "- difficult to read the code \n",
    "- using same value multiple times in tuple (repeat it in the right side)\n",
    "- dictionary formats"
   ]
  },
  {
   "cell_type": "markdown",
   "id": "24964c92",
   "metadata": {},
   "source": [
    "#### Write helper functions instead of complex expressions"
   ]
  },
  {
   "cell_type": "markdown",
   "id": "faf9d024",
   "metadata": {},
   "source": [
    "- Use if/else conditional to reduce visual noise\n",
    "- Moreover, if/else expression provides a more readable alternative over the boolean or/and in expressions."
   ]
  },
  {
   "cell_type": "markdown",
   "id": "604a3931",
   "metadata": {},
   "source": [
    "### Prefer Unpacking Over Indexing"
   ]
  },
  {
   "cell_type": "markdown",
   "id": "df95a025",
   "metadata": {},
   "source": [
    "- use special syntax to unpack multiple values and keys in a single statement."
   ]
  },
  {
   "cell_type": "markdown",
   "id": "993a97f5",
   "metadata": {},
   "source": [
    "### Prefer enumerate Over range"
   ]
  },
  {
   "cell_type": "markdown",
   "id": "dbc7c384",
   "metadata": {},
   "source": [
    "- range (built-in funciton) is useful for loops\n",
    "- prefer enumerate instead of looping over a range "
   ]
  },
  {
   "cell_type": "code",
   "execution_count": 11,
   "id": "63e26d32",
   "metadata": {},
   "outputs": [
    {
     "name": "stdout",
     "output_type": "stream",
     "text": [
      "vanilla is delicious\n",
      "chocolate is delicious\n",
      "pecan is delicious\n",
      "strawberry is delicious\n"
     ]
    }
   ],
   "source": [
    "# example of enumeration with list- \n",
    "flavor_list = ['vanilla', 'chocolate', 'pecan', 'strawberry']\n",
    "for flavor in flavor_list:\n",
    "    print(f'{flavor} is delicious')"
   ]
  },
  {
   "cell_type": "markdown",
   "id": "e836a60f",
   "metadata": {},
   "source": [
    "### Use zip to process Iterators in parallel"
   ]
  },
  {
   "cell_type": "code",
   "execution_count": 12,
   "id": "f405b0e7",
   "metadata": {},
   "outputs": [
    {
     "name": "stdout",
     "output_type": "stream",
     "text": [
      "[5, 5, 7]\n"
     ]
    }
   ],
   "source": [
    "names = ['Kunal', 'Xives', 'pricila']\n",
    "counts = [len(n) for n in names]\n",
    "print(counts)"
   ]
  },
  {
   "cell_type": "code",
   "execution_count": 13,
   "id": "9e0d6fc3",
   "metadata": {},
   "outputs": [
    {
     "name": "stdout",
     "output_type": "stream",
     "text": [
      "pricila\n"
     ]
    }
   ],
   "source": [
    "# iterating over lenght of lists\n",
    "longest_name = None\n",
    "max_count = 0\n",
    "\n",
    "for i in range(len(names)):\n",
    "    count = counts[i]\n",
    "    if count > max_count:\n",
    "        longest_name = names[i]\n",
    "        max_count = count\n",
    "        \n",
    "print(longest_name)"
   ]
  },
  {
   "cell_type": "code",
   "execution_count": 14,
   "id": "938eaaf6",
   "metadata": {},
   "outputs": [
    {
     "name": "stdout",
     "output_type": "stream",
     "text": [
      "pricila\n"
     ]
    }
   ],
   "source": [
    "# we see that the above code is a bit noisy. \n",
    "# to imporve it, we'll use the enumerate method\n",
    "\n",
    "for i, name in enumerate(names):\n",
    "    count = counts[i]\n",
    "    if count > max_count:\n",
    "        longest_name = name\n",
    "        max_count = count\n",
    "print(longest_name)"
   ]
  },
  {
   "cell_type": "code",
   "execution_count": 15,
   "id": "d6a830d6",
   "metadata": {},
   "outputs": [
    {
     "name": "stdout",
     "output_type": "stream",
     "text": [
      "pricila\n"
     ]
    }
   ],
   "source": [
    "# to improve it further, we'll use the inbuilt zip function\n",
    "\n",
    "for name, count in zip(names, counts):\n",
    "    if count > max_count:\n",
    "        longest_name = name\n",
    "        max_count = count\n",
    "\n",
    "print(longest_name)"
   ]
  },
  {
   "cell_type": "code",
   "execution_count": 16,
   "id": "72829f9d",
   "metadata": {},
   "outputs": [
    {
     "name": "stdout",
     "output_type": "stream",
     "text": [
      "Kunal\n",
      "Xives\n",
      "pricila\n"
     ]
    }
   ],
   "source": [
    "# zip's behavior is different if counts are not updated\n",
    "\n",
    "names.append('Rosy')\n",
    "for name, count in zip(names, counts):\n",
    "    print(name)"
   ]
  },
  {
   "cell_type": "code",
   "execution_count": 17,
   "id": "884d17ae",
   "metadata": {},
   "outputs": [
    {
     "name": "stdout",
     "output_type": "stream",
     "text": [
      "Kunal: 5\n",
      "Xives: 5\n",
      "pricila: 7\n",
      "Rosy: None\n"
     ]
    }
   ],
   "source": [
    "# so, be careful when using iterators of different lenght. \n",
    "\n",
    "# consider using zip_longest function from itertools instead\n",
    "\n",
    "import itertools\n",
    "for name, count in itertools.zip_longest (names, counts):\n",
    "    print (f'{name}: {count}')\n"
   ]
  },
  {
   "cell_type": "markdown",
   "id": "14ac77b7",
   "metadata": {},
   "source": [
    "### Avoid 'else' Blocks After 'for' and 'while' Loops"
   ]
  },
  {
   "cell_type": "code",
   "execution_count": 18,
   "id": "461860e0",
   "metadata": {},
   "outputs": [
    {
     "name": "stdout",
     "output_type": "stream",
     "text": [
      "Loop 0\n",
      "Loop 1\n",
      "Loop 2\n",
      "Else block!\n"
     ]
    }
   ],
   "source": [
    "# for loops first\n",
    "\n",
    "for i in range(3):\n",
    "    print('Loop', i)\n",
    "else:\n",
    "    print('Else block!')"
   ]
  },
  {
   "cell_type": "code",
   "execution_count": 19,
   "id": "17328675",
   "metadata": {},
   "outputs": [
    {
     "name": "stdout",
     "output_type": "stream",
     "text": [
      "Loop 0\n",
      "Loop 1\n"
     ]
    }
   ],
   "source": [
    "# using break in the code\n",
    "\n",
    "for i in range(3):\n",
    "    print('Loop', i)\n",
    "    if i == 1:\n",
    "        break\n",
    "        \n",
    "else:\n",
    "    print('Else block!')"
   ]
  },
  {
   "cell_type": "code",
   "execution_count": 20,
   "id": "6feb573c",
   "metadata": {},
   "outputs": [
    {
     "name": "stdout",
     "output_type": "stream",
     "text": [
      "For else block!\n"
     ]
    }
   ],
   "source": [
    "# else runs immediately if looped over an empty sequence\n",
    "\n",
    "for x in []:\n",
    "    print('Never runs')\n",
    "else:\n",
    "    print('For else block!')"
   ]
  },
  {
   "cell_type": "code",
   "execution_count": 21,
   "id": "46aa17fc",
   "metadata": {},
   "outputs": [
    {
     "name": "stdout",
     "output_type": "stream",
     "text": [
      "While else block!\n"
     ]
    }
   ],
   "source": [
    "# else also runs when while loops are initially false\n",
    "while False:\n",
    "    print('Never runs')\n",
    "else:\n",
    "    print('While else block!')"
   ]
  },
  {
   "cell_type": "code",
   "execution_count": 22,
   "id": "a8234741",
   "metadata": {},
   "outputs": [
    {
     "name": "stdout",
     "output_type": "stream",
     "text": [
      "Testing 2\n",
      "Testing 3\n",
      "Testing 4\n",
      "Testing 5\n",
      "Testing 6\n",
      "Testing 7\n",
      "Testing 8\n",
      "Testing 9\n",
      "coprime\n"
     ]
    }
   ],
   "source": [
    "## finding coprimes (having common divisor i.e. 1)\n",
    "\n",
    "a = 11\n",
    "b = 9\n",
    "\n",
    "for i in range(2, min(a, b) + 1):\n",
    "    print ('Testing', i)\n",
    "    if a% i == 0 and b%i == 0:\n",
    "        print('Not coprime')\n",
    "        break\n",
    "else:\n",
    "    print('coprime')\n"
   ]
  },
  {
   "cell_type": "markdown",
   "id": "4a42dac3",
   "metadata": {},
   "source": [
    "### Prevent repetition with assignment Expressions such as 'warlus operator'"
   ]
  },
  {
   "cell_type": "code",
   "execution_count": 23,
   "id": "58beebb2",
   "metadata": {},
   "outputs": [
    {
     "name": "stdout",
     "output_type": "stream",
     "text": [
      "[0, 2, 4, 6, 8]\n"
     ]
    }
   ],
   "source": [
    "# Without the walrus operator\n",
    "even_numbers_without_walrus = []\n",
    "count = 0\n",
    "while count < 5:\n",
    "    number = count * 2\n",
    "    if number % 2 == 0:\n",
    "        even_numbers_without_walrus.append(number)\n",
    "        count += 1\n",
    "\n",
    "print(even_numbers_without_walrus)\n"
   ]
  },
  {
   "cell_type": "code",
   "execution_count": 24,
   "id": "d39d208f",
   "metadata": {},
   "outputs": [
    {
     "name": "stdout",
     "output_type": "stream",
     "text": [
      "[0, 2, 4, 6, 8]\n"
     ]
    }
   ],
   "source": [
    "# With the walrus operator\n",
    "even_numbers_with_walrus = []\n",
    "count = 0\n",
    "while count < 5:\n",
    "    if (number := count * 2) % 2 == 0:\n",
    "        even_numbers_with_walrus.append(number)\n",
    "        count += 1\n",
    "\n",
    "print(even_numbers_with_walrus)"
   ]
  },
  {
   "cell_type": "markdown",
   "id": "6664c7ae",
   "metadata": {},
   "source": [
    "## Lists and dictionaries"
   ]
  },
  {
   "cell_type": "markdown",
   "id": "adc5d68a",
   "metadata": {},
   "source": [
    "### Know how to slice sequneces"
   ]
  },
  {
   "cell_type": "code",
   "execution_count": 2,
   "id": "c77fc940",
   "metadata": {},
   "outputs": [
    {
     "name": "stdout",
     "output_type": "stream",
     "text": [
      "Middle two:  ['c', 'd']\n"
     ]
    }
   ],
   "source": [
    "#somelist [start:end]\n",
    "a = ['a', 'b', 'c', 'd', 'e', 'f']\n",
    "print ('Middle two: ', a[2:4])"
   ]
  },
  {
   "cell_type": "markdown",
   "id": "682f921e",
   "metadata": {},
   "source": [
    "### Avoid striding and slicing in a single expression"
   ]
  },
  {
   "cell_type": "code",
   "execution_count": 3,
   "id": "378dc1c4",
   "metadata": {},
   "outputs": [
    {
     "name": "stdout",
     "output_type": "stream",
     "text": [
      "[1, 3, 5]\n",
      "[2, 4, 6]\n"
     ]
    }
   ],
   "source": [
    "b = [1, 2, 3, 4, 5, 6]\n",
    "odds = b[::2]\n",
    "evens = b[1::2]\n",
    "print(odds)\n",
    "print(evens)"
   ]
  },
  {
   "cell_type": "code",
   "execution_count": 5,
   "id": "0ac1acec",
   "metadata": {},
   "outputs": [
    {
     "name": "stdout",
     "output_type": "stream",
     "text": [
      "b'eguor'\n"
     ]
    }
   ],
   "source": [
    "# stride syntax that can introduce bugs ; Avoid\n",
    "c = b'rouge'\n",
    "d = c[::-1]\n",
    "\n",
    "print(d)"
   ]
  },
  {
   "cell_type": "code",
   "execution_count": 9,
   "id": "f9eb16cd",
   "metadata": {},
   "outputs": [
    {
     "name": "stdout",
     "output_type": "stream",
     "text": [
      "['c', 'e', 'g']\n",
      "['g', 'e', 'c', 'a']\n",
      "['g', 'e']\n",
      "[]\n"
     ]
    }
   ],
   "source": [
    "x = ['a', 'b', 'c', 'd', 'e', 'f', 'g', 'h']\n",
    "print(x[2::2])     # ['c', 'e', 'g']\n",
    "print(x[-2::-2])   # ['g', 'e', 'c', 'a']\n",
    "print(x[-2:2:-2])  # ['g', 'e']  #[start: stop : step]\n",
    "print(x[2:2:-2])   # []"
   ]
  },
  {
   "cell_type": "markdown",
   "id": "8283190f",
   "metadata": {},
   "source": [
    "### Perfect Catch-'All Unpacking Over Slicing'"
   ]
  },
  {
   "cell_type": "markdown",
   "id": "1056d8c7",
   "metadata": {},
   "source": [
    "- Unpacking -  extracting individual elements from a sequence (like a list or tuple) and assigning them to variables. \n",
    "- Slicing - selecting a subset of elements from a sequence."
   ]
  },
  {
   "cell_type": "code",
   "execution_count": 10,
   "id": "237649e0",
   "metadata": {},
   "outputs": [
    {
     "name": "stdout",
     "output_type": "stream",
     "text": [
      "Subset: [3, 4, 5, 6, 7, 8]\n",
      "First element: 3\n",
      "Middle elements: [4, 5, 6, 7]\n",
      "Last element: 8\n"
     ]
    }
   ],
   "source": [
    "# Example sequence\n",
    "numbers = [1, 2, 3, 4, 5, 6, 7, 8, 9, 10]\n",
    "\n",
    "# Using slicing to get a portion of the sequence\n",
    "subset = numbers[2:8]\n",
    "\n",
    "# Using unpacking to assign values to variables\n",
    "first, *middle, last = subset   # *used for extended unpacking\n",
    "\n",
    "# Print the results\n",
    "print(\"Subset:\", subset)\n",
    "print(\"First element:\", first)\n",
    "print(\"Middle elements:\", middle)\n",
    "print(\"Last element:\", last)\n"
   ]
  },
  {
   "cell_type": "markdown",
   "id": "fe1d4e65",
   "metadata": {},
   "source": [
    "### Sort by Complex Criteria using the 'key' parameter"
   ]
  },
  {
   "cell_type": "markdown",
   "id": "c6312aa3",
   "metadata": {},
   "source": [
    "- sort method works for all built-in types (strings, floats, etc.), but it doesn't work for the classes, including a __repr__ method for instance. "
   ]
  },
  {
   "cell_type": "code",
   "execution_count": 4,
   "id": "b6d6f1ba",
   "metadata": {},
   "outputs": [
    {
     "name": "stdout",
     "output_type": "stream",
     "text": [
      "Unsorted:\n",
      "Tool(level, 3.5)\n",
      "Tool(hammer, 1.25)\n",
      "Tool(screwdriver, 0.5)\n",
      "Tool(chisel, 0.25)\n",
      "\n",
      "Sorted:\n",
      "Tool(chisel, 0.25)\n",
      "Tool(hammer, 1.25)\n",
      "Tool(level, 3.5)\n",
      "Tool(screwdriver, 0.5)\n"
     ]
    }
   ],
   "source": [
    "class Tool:\n",
    "    def __init__(self, name, weight):\n",
    "        self.name = name\n",
    "        self.weight = weight\n",
    "\n",
    "    def __repr__(self):\n",
    "        return f'Tool({self.name}, {self.weight})'\n",
    "\n",
    "# Example usage of the Tool class\n",
    "tools = [\n",
    "    Tool('level', 3.5),\n",
    "    Tool('hammer', 1.25),\n",
    "    Tool('screwdriver', 0.5),\n",
    "    Tool('chisel', 0.25),\n",
    "]\n",
    "\n",
    "# tools.sort()   #this will give us a traceback\n",
    " \n",
    "# Display the unsorted list of tools\n",
    "print('Unsorted:')\n",
    "for tool in tools:\n",
    "    print(repr(tool))\n",
    "\n",
    "# Sort the tools based on their names\n",
    "tools.sort(key=lambda x: x.name)\n",
    "\n",
    "# Display the sorted list of tools\n",
    "print('\\nSorted:')\n",
    "for tool in tools:\n",
    "    print(tool)\n"
   ]
  },
  {
   "cell_type": "markdown",
   "id": "a0d78b11",
   "metadata": {},
   "source": [
    "### Dictionaries : insertion ordering, dict types, dict values"
   ]
  },
  {
   "cell_type": "code",
   "execution_count": 13,
   "id": "725c14b3",
   "metadata": {},
   "outputs": [
    {
     "name": "stdout",
     "output_type": "stream",
     "text": [
      "{'otter': 1, 'fox': 2, 'polar bear': 3}\n",
      "otter\n"
     ]
    }
   ],
   "source": [
    "# cutest baby animal\n",
    "\n",
    "votes = {\n",
    "    'otter': 1281,\n",
    "    'polar bear': 587,\n",
    "    'fox': 863,\n",
    "}\n",
    "\n",
    "# save the rank to an empty dictionary\n",
    "def populate_ranks(votes, ranks):  #takes votes and ranks dictionary\n",
    "    names = list(votes.keys())\n",
    "    names.sort(key=votes.get, reverse=True)\n",
    "    for i, name in enumerate(names, 1):\n",
    "        ranks[name] = i\n",
    "    \n",
    "# function that returs the animal with hightest rank\n",
    "def get_winner(ranks):\n",
    "    return next(iter(ranks))\n",
    "\n",
    "# results\n",
    "ranks = {}\n",
    "populate_ranks(votes, ranks)\n",
    "print(ranks)\n",
    "winner = get_winner(ranks)\n",
    "print(winner)\n"
   ]
  },
  {
   "cell_type": "markdown",
   "id": "730c90b7",
   "metadata": {},
   "source": [
    "### Prefer 'get' Over 'in' and 'KeyError' to handle missing dictionary keys"
   ]
  },
  {
   "cell_type": "markdown",
   "id": "54c6a16c",
   "metadata": {},
   "source": [
    "- accessing and assigning \n",
    "- for maintaining dictionaries, consider Counter class from the collections built-in module\n",
    "- setdefault is another shortened method other than get method, but readability is not clear. so, avoid it"
   ]
  },
  {
   "cell_type": "markdown",
   "id": "31837af0",
   "metadata": {},
   "source": [
    "#### example 1"
   ]
  },
  {
   "cell_type": "code",
   "execution_count": 31,
   "id": "a1257673",
   "metadata": {},
   "outputs": [],
   "source": [
    "bread = {\n",
    "    '14grain': 4,\n",
    "    'multigrain' : 2\n",
    "}\n",
    "\n",
    "#1) 'in' method\n",
    "key = 'wheat'\n",
    "\n",
    "if key in bread:\n",
    "    count = bread[key]\n",
    "else:\n",
    "    count = 0\n",
    "\n",
    "bread[key] = count + 1  #incrementing the count by 1 for 'wheat' key"
   ]
  },
  {
   "cell_type": "markdown",
   "id": "c00210e4",
   "metadata": {},
   "source": [
    "#2) 'KeyError' method\n",
    "key = 'wheat'\n",
    "\n",
    "try:\n",
    "    count = bread[key]\n",
    "except KeyError:\n",
    "    count = 0\n",
    "\n",
    "    \n",
    "bread[key] = count + 1"
   ]
  },
  {
   "cell_type": "code",
   "execution_count": 35,
   "id": "03e75a12",
   "metadata": {},
   "outputs": [],
   "source": [
    "#3) 'get' method - best one (shortest and clearest)\n",
    "\n",
    "key = 'oats'\n",
    "\n",
    "count = bread.get(key,0)\n",
    "bread[key] = count + 1"
   ]
  },
  {
   "cell_type": "code",
   "execution_count": 23,
   "id": "9c4d0304",
   "metadata": {},
   "outputs": [
    {
     "data": {
      "text/plain": [
       "{'14grain': 4, 'multigrain': 2, 'wheat': 2, 'oats': 1}"
      ]
     },
     "execution_count": 23,
     "metadata": {},
     "output_type": "execute_result"
    }
   ],
   "source": [
    "bread"
   ]
  },
  {
   "cell_type": "markdown",
   "id": "3db07f1c",
   "metadata": {},
   "source": [
    "#### example 2"
   ]
  },
  {
   "cell_type": "code",
   "execution_count": 32,
   "id": "e9b252cf",
   "metadata": {},
   "outputs": [
    {
     "name": "stdout",
     "output_type": "stream",
     "text": [
      "{'14grain': ['Bob', 'Ashley', 'Suzan', 'Susan'], 'multigrain': ['Dikshita', 'Kavya'], 'wheat': ['Bhavna', 'Shristi'], 'oats': ['Nikumbh'], 'kinoa': ['Raph']}\n"
     ]
    }
   ],
   "source": [
    "# more complex dictionary, to know who voted for which type of bread\n",
    "\n",
    "votes = {\n",
    "    '14grain' : ['Bob', 'Ashley', 'Suzan', 'Susan'],\n",
    "    'multigrain' : ['Dikshita', 'Kavya'],\n",
    "    'wheat' : ['Bhavna', 'Shristi'],\n",
    "    'oats' : ['Nikumbh']\n",
    "}\n",
    "\n",
    "key = 'kinoa' \n",
    "who = 'Raph'\n",
    "\n",
    "if key in votes: \n",
    "    names = votes[key]\n",
    "else:\n",
    "    votes[key] = names = []\n",
    "    \n",
    "names.append(who)\n",
    "print (votes)"
   ]
  },
  {
   "cell_type": "code",
   "execution_count": 34,
   "id": "f146d784",
   "metadata": {},
   "outputs": [
    {
     "name": "stdout",
     "output_type": "stream",
     "text": [
      "{'14grain': ['Bob', 'Ashley', 'Suzan', 'Susan'], 'multigrain': ['Dikshita', 'Kavya'], 'wheat': ['Bhavna', 'Shristi'], 'oats': ['Nikumbh'], 'kinoa': ['Raph', 'Raph', 'Raph']}\n"
     ]
    }
   ],
   "source": [
    "# try except\n",
    "\n",
    "try:\n",
    "    names = votes[key]\n",
    "except KeyError:\n",
    "    votes[key] = names =[]\n",
    "\n",
    "names.append(who)\n",
    "print(votes)"
   ]
  },
  {
   "cell_type": "code",
   "execution_count": 39,
   "id": "c7c35cc2",
   "metadata": {},
   "outputs": [
    {
     "name": "stdout",
     "output_type": "stream",
     "text": [
      "{'14grain': ['Bob', 'Ashley', 'Suzan', 'Susan'], 'multigrain': ['Dikshita', 'Kavya'], 'wheat': ['Bhavna', 'Shristi'], 'oats': ['Nikumbh', 'Raph', 'Raph', 'Raph', 'Raph'], 'kinoa': ['Raph', 'Raph', 'Raph']}\n"
     ]
    }
   ],
   "source": [
    "# get method\n",
    "names = votes.get(key)\n",
    "if names is None:\n",
    "    votes[key] = names = []\n",
    "    \n",
    "names.append(who)\n",
    "\n",
    "print(votes)"
   ]
  },
  {
   "cell_type": "code",
   "execution_count": 41,
   "id": "667c9413",
   "metadata": {},
   "outputs": [
    {
     "name": "stdout",
     "output_type": "stream",
     "text": [
      "{'14grain': ['Bob', 'Ashley', 'Suzan', 'Susan'], 'multigrain': ['Dikshita', 'Kavya'], 'wheat': ['Bhavna', 'Shristi'], 'oats': ['Nikumbh', 'Raph', 'Raph', 'Raph', 'Raph', 'Raph', 'Raph'], 'kinoa': ['Raph', 'Raph', 'Raph']}\n"
     ]
    }
   ],
   "source": [
    "# prevent repetition\n",
    "if (names := votes.get(key)) is None:\n",
    "    votes[key] = names = []\n",
    "names.append(who)\n",
    "\n",
    "print(votes)"
   ]
  },
  {
   "cell_type": "markdown",
   "id": "4c41b872",
   "metadata": {},
   "source": [
    "### Prefer 'defaultdict' Over 'Setdefault' to handle missing items"
   ]
  },
  {
   "cell_type": "code",
   "execution_count": 47,
   "id": "e27b8291",
   "metadata": {},
   "outputs": [
    {
     "name": "stdout",
     "output_type": "stream",
     "text": [
      "{'India': {'Rajastan', 'Haryana', 'Punjab', 'Himachal Pardesh', 'Goa'}, 'UAE': {'Dubai'}, 'Nepal': {'Kathmandu'}, 'Canada': {'Ontario', 'Québec'}, 'France': {'Remi'}, 'Japan': {'Kyoto'}}\n"
     ]
    }
   ],
   "source": [
    "# list of countires and cities visited\n",
    "visits = {\n",
    "    'India' : {'Punjab', 'Rajastan', 'Goa', 'Himachal Pardesh', 'Haryana'},\n",
    "    'UAE' : {'Dubai'},\n",
    "    'Nepal' : {'Kathmandu'},\n",
    "    'Canada' : {'Québec', 'Ontario'},\n",
    "}\n",
    "\n",
    "\n",
    "# using setdefalut method to add to the list (method 1)\n",
    "\n",
    "visits.setdefault('France', set()).add('Remi')  #short\n",
    "\n",
    "if (japan := visits.get('Japan')) is None:      #long\n",
    "    visits['Japan'] = japan = set()\n",
    "japan.add('Kyoto')\n",
    "\n",
    "print(visits)"
   ]
  },
  {
   "cell_type": "code",
   "execution_count": 50,
   "id": "ce9ca8c0",
   "metadata": {},
   "outputs": [
    {
     "name": "stdout",
     "output_type": "stream",
     "text": [
      "defaultdict(<class 'set'>, {'England': {'Bath', 'London'}})\n"
     ]
    }
   ],
   "source": [
    "# how about i create a class then add places\n",
    "\n",
    "from collections import defaultdict\n",
    "\n",
    "class Visits:\n",
    "    def __init__(self):\n",
    "       self.data = defaultdict(set)\n",
    "\n",
    "    def add(self, country, city):\n",
    "       self.data[country].add(city)\n",
    "\n",
    "visits = Visits()\n",
    "visits.add('England', 'Bath')\n",
    "visits.add('England', 'London')\n",
    "print(visits.data)\n"
   ]
  },
  {
   "cell_type": "markdown",
   "id": "672bc1b3",
   "metadata": {},
   "source": [
    "## Functions"
   ]
  },
  {
   "cell_type": "markdown",
   "id": "fcd646e0",
   "metadata": {},
   "source": [
    "### Never Unpack more than 3 variables when fucntions return multiple vaues"
   ]
  },
  {
   "cell_type": "code",
   "execution_count": 4,
   "id": "46e91c7b",
   "metadata": {},
   "outputs": [
    {
     "ename": "ValueError",
     "evalue": "too many values to unpack (expected 3)",
     "output_type": "error",
     "traceback": [
      "\u001b[1;31m---------------------------------------------------------------------------\u001b[0m",
      "\u001b[1;31mValueError\u001b[0m                                Traceback (most recent call last)",
      "Cell \u001b[1;32mIn[4], line 10\u001b[0m\n\u001b[0;32m      7\u001b[0m     \u001b[38;5;28;01mreturn\u001b[39;00m name, age, city, gender\n\u001b[0;32m      9\u001b[0m \u001b[38;5;66;03m# Unpacking with three variables\u001b[39;00m\n\u001b[1;32m---> 10\u001b[0m name, age, city \u001b[38;5;241m=\u001b[39m get_person_details() \u001b[38;5;66;03m#3 return variables\u001b[39;00m\n\u001b[0;32m     12\u001b[0m \u001b[38;5;66;03m# Displaying the results\u001b[39;00m\n\u001b[0;32m     13\u001b[0m \u001b[38;5;28mprint\u001b[39m(\u001b[38;5;124m\"\u001b[39m\u001b[38;5;124mName:\u001b[39m\u001b[38;5;124m\"\u001b[39m, name)\n",
      "\u001b[1;31mValueError\u001b[0m: too many values to unpack (expected 3)"
     ]
    }
   ],
   "source": [
    "# Function returning multiple values\n",
    "def get_person_details():\n",
    "    name = \"John\"\n",
    "    age = 30\n",
    "    city = \"Montréal\"\n",
    "    gender = \"Male\"\n",
    "    return name, age, city, gender\n",
    "\n",
    "# Unpacking with three variables\n",
    "name, age, city = get_person_details() #return 3 \n",
    "variables\n",
    "\n",
    "# Displaying the results\n",
    "print(\"Name:\", name)\n",
    "print(\"Age:\", age)\n",
    "print(\"City:\", city)\n"
   ]
  },
  {
   "cell_type": "code",
   "execution_count": 5,
   "id": "20d38e8d",
   "metadata": {},
   "outputs": [
    {
     "name": "stdout",
     "output_type": "stream",
     "text": [
      "Name: John\n",
      "Age: 30\n",
      "City: Montréal\n"
     ]
    }
   ],
   "source": [
    "# Function returning multiple values\n",
    "def get_person_details():\n",
    "    name = \"John\"\n",
    "    age = 30\n",
    "    city = \"Montréal\"\n",
    "    #gender = \"Male\"\n",
    "    return name, age, city\n",
    "\n",
    "# Unpacking with three variables\n",
    "name, age, city = get_person_details() #3 return variables\n",
    "\n",
    "# Displaying the results\n",
    "print(\"Name:\", name)\n",
    "print(\"Age:\", age)\n",
    "print(\"City:\", city)"
   ]
  },
  {
   "cell_type": "markdown",
   "id": "ccb85aeb",
   "metadata": {},
   "source": [
    "### Prefer raising exceptions to returning None"
   ]
  },
  {
   "cell_type": "code",
   "execution_count": 6,
   "id": "ef85c696",
   "metadata": {},
   "outputs": [
    {
     "name": "stdout",
     "output_type": "stream",
     "text": [
      "Result: 5.0\n",
      "Error: Cannot divide by zero.\n"
     ]
    }
   ],
   "source": [
    "# Function that returns None on failure\n",
    "def divide_numbers(a, b):\n",
    "    if b == 0:\n",
    "        return None  # Indicating failure by returning None\n",
    "    else:\n",
    "        return a / b\n",
    "\n",
    "# Using the function and checking for failure with None\n",
    "result = divide_numbers(10, 2)\n",
    "\n",
    "if result is not None:\n",
    "    print(\"Result:\", result)\n",
    "else:\n",
    "    print(\"Error: Cannot divide by zero.\")\n",
    "\n",
    "# Using the function and checking for failure with None\n",
    "result = divide_numbers(10, 0)\n",
    "\n",
    "if result is not None:\n",
    "    print(\"Result:\", result)\n",
    "else:\n",
    "    print(\"Error: Cannot divide by zero.\")\n"
   ]
  },
  {
   "cell_type": "code",
   "execution_count": 7,
   "id": "fc6ef883",
   "metadata": {},
   "outputs": [
    {
     "name": "stdout",
     "output_type": "stream",
     "text": [
      "Result: 5.0\n",
      "Error: Cannot divide by zero\n"
     ]
    }
   ],
   "source": [
    "# Function that raises an exception on failure\n",
    "def divide_numbers(a, b):\n",
    "    if b == 0:\n",
    "        raise ValueError(\"Cannot divide by zero\")\n",
    "    else:\n",
    "        return a / b\n",
    "\n",
    "# Using the function and handling the exception\n",
    "try:\n",
    "    result = divide_numbers(10, 2)\n",
    "    print(\"Result:\", result)\n",
    "except ValueError as e:\n",
    "    print(\"Error:\", e)\n",
    "\n",
    "# Using the function and handling the exception\n",
    "try:\n",
    "    result = divide_numbers(10, 0)\n",
    "    print(\"Result:\", result)\n",
    "except ValueError as e:\n",
    "    print(\"Error:\", e)\n"
   ]
  },
  {
   "cell_type": "markdown",
   "id": "6a0f1574",
   "metadata": {},
   "source": [
    "### Know how Closures Interact with Variable Scope"
   ]
  },
  {
   "cell_type": "markdown",
   "id": "468b3234",
   "metadata": {},
   "source": [
    "- It is better to write a helper class compared to non-local or helper function. \n",
    "- used specifically when we want to priortise certain groups in a function. "
   ]
  },
  {
   "cell_type": "code",
   "execution_count": 9,
   "id": "26a225cd",
   "metadata": {},
   "outputs": [
    {
     "name": "stdout",
     "output_type": "stream",
     "text": [
      "Sorted List: [2, 4, 1, 3, 5]\n"
     ]
    }
   ],
   "source": [
    "class Sorter:\n",
    "    def __init__(self, group):\n",
    "        self.group = group\n",
    "        self.found = False\n",
    "\n",
    "    def __call__(self, x):\n",
    "        if x in self.group:\n",
    "            self.found = True\n",
    "            return (0, x)\n",
    "        else:\n",
    "            return (1, x)\n",
    "\n",
    "# Example usage\n",
    "group = {2, 4, 6}\n",
    "numbers = [5, 3, 2, 1, 4]\n",
    "\n",
    "sorter = Sorter(group)\n",
    "numbers.sort(key=sorter)\n",
    "\n",
    "# Display the sorted list\n",
    "print(\"Sorted List:\", numbers)\n",
    "\n",
    "# Check if any item from the group is found during sorting\n",
    "assert sorter.found is True\n"
   ]
  },
  {
   "cell_type": "markdown",
   "id": "b684aeba",
   "metadata": {},
   "source": [
    "### Reduce Visual Noise with Variable Positional Arguments"
   ]
  },
  {
   "cell_type": "markdown",
   "id": "8396e3bc",
   "metadata": {},
   "source": [
    "*args is not suggested for two reasons- \n",
    "    \n",
    "    1) Optional positional arguments are always turned into a tuple before they are passed to a function. Uses a lot of memory and could crash a function.\n",
    "    \n",
    "    2) Doesn't provide value inclusive of the new argument. Hence, no use of adding an additional argument. "
   ]
  },
  {
   "cell_type": "code",
   "execution_count": 12,
   "id": "dec2372c",
   "metadata": {},
   "outputs": [
    {
     "name": "stdout",
     "output_type": "stream",
     "text": [
      "Result: 6\n",
      "Result2: 9\n"
     ]
    }
   ],
   "source": [
    "# Original function with *args\n",
    "def example_function(*args):\n",
    "    # Existing functionality using args\n",
    "    total = sum(args)\n",
    "    return total\n",
    "\n",
    "# Example usage\n",
    "result = example_function(1, 2, 3)\n",
    "print(\"Result:\", result)\n",
    "\n",
    "# Attempt to add a new positional argument\n",
    "# This would break existing callers\n",
    "def updated_function(new_arg, *args):\n",
    "     total = sum(args) + new_arg\n",
    "     return total\n",
    "\n",
    "result2 = updated_function(4,5)\n",
    "print('Result2:', result2)"
   ]
  },
  {
   "cell_type": "markdown",
   "id": "5590a3d2",
   "metadata": {},
   "source": [
    "### Provide Optional Behavior with Keyword Arguments"
   ]
  },
  {
   "cell_type": "code",
   "execution_count": 13,
   "id": "12c23b79",
   "metadata": {},
   "outputs": [],
   "source": [
    "def calculate_rectangle_area(length, width):\n",
    "    return length * width"
   ]
  },
  {
   "cell_type": "code",
   "execution_count": 14,
   "id": "a39b6bc5",
   "metadata": {},
   "outputs": [],
   "source": [
    "def calculate_rectangle_area(length, width=None):\n",
    "    if width is not None:\n",
    "        return length * width\n",
    "    else:\n",
    "        # If width is not provided, assume it's a square (width = length)\n",
    "        return length * length"
   ]
  },
  {
   "cell_type": "code",
   "execution_count": 16,
   "id": "21c00043",
   "metadata": {},
   "outputs": [
    {
     "name": "stdout",
     "output_type": "stream",
     "text": [
      "15\n",
      "16\n"
     ]
    }
   ],
   "source": [
    "area1 = calculate_rectangle_area(5, 3)  # Calculates area of a rectangle\n",
    "area2 = calculate_rectangle_area(4)     # Assumes it's a square with side length 4\n",
    "\n",
    "print(area1)\n",
    "print(area2)"
   ]
  },
  {
   "cell_type": "markdown",
   "id": "2c2d9255",
   "metadata": {},
   "source": [
    "### Use None and Docstrings to Specify Dynamic Default Arguments"
   ]
  },
  {
   "cell_type": "code",
   "execution_count": 17,
   "id": "aa238046",
   "metadata": {},
   "outputs": [
    {
     "name": "stdout",
     "output_type": "stream",
     "text": [
      "2023-12-05 18:49:25.657917: Error occurred\n",
      "2023-01-01 00:00:00: Warning\n"
     ]
    }
   ],
   "source": [
    "from datetime import datetime\n",
    "\n",
    "def log_message(message, timestamp=None):\n",
    "    \"\"\"\n",
    "    Log a message with an optional timestamp.\n",
    "\n",
    "    Parameters:\n",
    "    - message (str): The message to be logged.\n",
    "    - timestamp (datetime, optional): The timestamp for the log message.\n",
    "      Defaults to the current time if not provided.\n",
    "    \"\"\"\n",
    "    if timestamp is None:\n",
    "        timestamp = datetime.now()\n",
    "\n",
    "    print(f\"{timestamp}: {message}\")\n",
    "\n",
    "# Example usage\n",
    "log_message(\"Error occurred\")  # Logs the message with the current timestamp\n",
    "log_message(\"Warning\", timestamp=datetime(2023, 1, 1))  # Logs the message with a specific timestamp\n"
   ]
  },
  {
   "cell_type": "markdown",
   "id": "7342177e",
   "metadata": {},
   "source": [
    "### Define Function Decorators with funtools.wraps"
   ]
  },
  {
   "cell_type": "markdown",
   "id": "72562820",
   "metadata": {},
   "source": [
    "- Decorator in Python is a function that takes another function as input and extends or modifies the behavior of the latter function. \n",
    "-  In this case, the trace decorator is designed to print information about the function calls.\n"
   ]
  },
  {
   "cell_type": "code",
   "execution_count": 1,
   "id": "55e2f304",
   "metadata": {},
   "outputs": [],
   "source": [
    "def trace(func):\n",
    "    def wrapper(*args, **kwargs):\n",
    "        result = func(*args, **kwargs)\n",
    "        print(f'{func.__name__}({args!r}, {kwargs!r}) '\n",
    "              f'-> {result!r}')\n",
    "        return result\n",
    "    return wrapper\n"
   ]
  },
  {
   "cell_type": "code",
   "execution_count": 2,
   "id": "652f62c0",
   "metadata": {},
   "outputs": [
    {
     "name": "stdout",
     "output_type": "stream",
     "text": [
      "example_function((3, 4), {}) -> 12\n"
     ]
    }
   ],
   "source": [
    "@trace\n",
    "def example_function(x, y):\n",
    "    return x * y\n",
    "\n",
    "result = example_function(3, 4)\n"
   ]
  },
  {
   "cell_type": "code",
   "execution_count": 3,
   "id": "fc9ab393",
   "metadata": {},
   "outputs": [
    {
     "name": "stdout",
     "output_type": "stream",
     "text": [
      "Help on function wrapper in module __main__:\n",
      "\n",
      "wrapper(*args, **kwargs)\n",
      "\n"
     ]
    }
   ],
   "source": [
    "help(example_function)"
   ]
  }
 ],
 "metadata": {
  "kernelspec": {
   "display_name": "Python 3 (ipykernel)",
   "language": "python",
   "name": "python3"
  },
  "language_info": {
   "codemirror_mode": {
    "name": "ipython",
    "version": 3
   },
   "file_extension": ".py",
   "mimetype": "text/x-python",
   "name": "python",
   "nbconvert_exporter": "python",
   "pygments_lexer": "ipython3",
   "version": "3.11.5"
  }
 },
 "nbformat": 4,
 "nbformat_minor": 5
}
