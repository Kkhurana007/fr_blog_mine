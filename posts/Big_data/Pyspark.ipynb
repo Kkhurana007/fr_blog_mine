{
 "cells": [
  {
   "cell_type": "markdown",
   "metadata": {},
   "source": [
    "---\n",
    "image: big_data.png\n",
    "title: Big Data Analysis\n",
    "subtitle: Data analysis with Pyspark\n",
    "date: '2024-03-16'\n",
    "categories: [Big data, Pyspark, Python, matplotlib]\n",
    "author: Kunal Khurana\n",
    "jupyter: python3\n",
    "toc: True\n",
    "---"
   ]
  },
  {
   "cell_type": "markdown",
   "metadata": {},
   "source": [
    "# Installation"
   ]
  },
  {
   "cell_type": "code",
   "execution_count": 2,
   "metadata": {
    "colab": {
     "base_uri": "https://localhost:8080/"
    },
    "id": "4BPzekgMvIOE",
    "outputId": "7e069798-f199-4818-ed8b-8204495fa899"
   },
   "outputs": [
    {
     "name": "stdout",
     "output_type": "stream",
     "text": [
      "Collecting pyspark\n",
      "  Downloading pyspark-3.5.1.tar.gz (317.0 MB)\n",
      "\u001b[2K     \u001b[90m━━━━━━━━━━━━━━━━━━━━━━━━━━━━━━━━━━━━━━━━\u001b[0m \u001b[32m317.0/317.0 MB\u001b[0m \u001b[31m2.8 MB/s\u001b[0m eta \u001b[36m0:00:00\u001b[0m\n",
      "\u001b[?25h  Preparing metadata (setup.py) ... \u001b[?25l\u001b[?25hdone\n",
      "Requirement already satisfied: py4j==0.10.9.7 in /usr/local/lib/python3.10/dist-packages (from pyspark) (0.10.9.7)\n",
      "Building wheels for collected packages: pyspark\n",
      "  Building wheel for pyspark (setup.py) ... \u001b[?25l\u001b[?25hdone\n",
      "  Created wheel for pyspark: filename=pyspark-3.5.1-py2.py3-none-any.whl size=317488491 sha256=5a72176bdbb100fe9611d828be35fe034a7c320431f0d36ecee1247bc4eb9a7e\n",
      "  Stored in directory: /root/.cache/pip/wheels/80/1d/60/2c256ed38dddce2fdd93be545214a63e02fbd8d74fb0b7f3a6\n",
      "Successfully built pyspark\n",
      "Installing collected packages: pyspark\n",
      "Successfully installed pyspark-3.5.1\n"
     ]
    }
   ],
   "source": [
    "!pip install pyspark\n"
   ]
  },
  {
   "cell_type": "markdown",
   "metadata": {},
   "source": [
    "## Installing libraries"
   ]
  },
  {
   "cell_type": "code",
   "execution_count": 3,
   "metadata": {
    "id": "7yQngz33v2AI"
   },
   "outputs": [],
   "source": [
    "from pyspark.sql import SparkSession\n",
    "from pyspark.sql.functions import count, desc, col, max, struct\n",
    "import matplotlib.pyplot as plt"
   ]
  },
  {
   "cell_type": "code",
   "execution_count": 4,
   "metadata": {
    "id": "T6J-utvGwQOV"
   },
   "outputs": [],
   "source": [
    "spark = SparkSession.builder.appName('spark_app').getOrCreate()"
   ]
  },
  {
   "cell_type": "code",
   "execution_count": 5,
   "metadata": {
    "id": "isvdSbtYwbcC"
   },
   "outputs": [],
   "source": [
    "traffic_collision_data = '/content/traffic-collision-data-from-2010-to-present.csv'"
   ]
  },
  {
   "cell_type": "code",
   "execution_count": 6,
   "metadata": {
    "id": "Wgm5l6rjxcO5"
   },
   "outputs": [],
   "source": [
    "# prompt: load traffic_collision_data with spark\n",
    "\n",
    "df = spark.read.csv(traffic_collision_data, header=True, inferSchema=True)\n"
   ]
  },
  {
   "cell_type": "code",
   "execution_count": 7,
   "metadata": {
    "colab": {
     "base_uri": "https://localhost:8080/"
    },
    "id": "rEYk5NgLx96r",
    "outputId": "31db5a6e-c2b9-492e-aacc-adb1ebcc3287"
   },
   "outputs": [
    {
     "name": "stdout",
     "output_type": "stream",
     "text": [
      "+---------+-------------------+--------------------+-------------+-------+-----------+------------------+----------+----------------------+--------------------+----------+----------+--------------+------------+-------------------+--------------------+--------------------+--------------------+---------------+----------------+-------------------+--------------------+-----------------+---------------------------------+\n",
      "|DR Number|      Date Reported|       Date Occurred|Time Occurred|Area ID|  Area Name|Reporting District|Crime Code|Crime Code Description|            MO Codes|Victim Age|Victim Sex|Victim Descent|Premise Code|Premise Description|             Address|        Cross Street|            Location|      Zip Codes|   Census Tracts|Precinct Boundaries|   LA Specific Plans|Council Districts|Neighborhood Councils (Certified)|\n",
      "+---------+-------------------+--------------------+-------------+-------+-----------+------------------+----------+----------------------+--------------------+----------+----------+--------------+------------+-------------------+--------------------+--------------------+--------------------+---------------+----------------+-------------------+--------------------+-----------------+---------------------------------+\n",
      "|191323054|2019-11-30 00:00:00|2019-11-30T00:00:...|         0130|     13|     Newton|              1385|       997|     TRAFFIC COLLISION|                NULL|      NULL|         F|             H|         101|             STREET|SAN PEDRO        ...|SLAUSON          ...|\"{'longitude': '-...| \"\"city\"\": \"\"\"\"| \"\"state\"\": \"\"\"\"|    \"\"zip\"\": \"\"\"\"}'| 'latitude': '33....|            22352|                              786|\n",
      "|192020666|2019-11-30 00:00:00|2019-11-30T00:00:...|         0015|     20|    Olympic|              2054|       997|     TRAFFIC COLLISION|                NULL|        40|         M|             W|         101|             STREET|OLYMPIC          ...|KINGSLEY         ...|\"{'longitude': '-...| \"\"city\"\": \"\"\"\"| \"\"state\"\": \"\"\"\"|    \"\"zip\"\": \"\"\"\"}'| 'latitude': '34....|            22723|                              617|\n",
      "|191616992|2019-11-30 00:00:00|2019-11-30T00:00:...|         0230|     16|   Foothill|              1669|       997|     TRAFFIC COLLISION|                NULL|        18|         M|             W|         101|             STREET|TUJUNGA CANYON   ...|LA TUNA CANYON   ...|\"{'longitude': '-...| \"\"city\"\": \"\"\"\"| \"\"state\"\": \"\"\"\"|    \"\"zip\"\": \"\"\"\"}'| 'latitude': '34....|             3222|                                5|\n",
      "|191824082|2019-11-30 00:00:00|2019-11-30T00:00:...|         0730|     18|  Southeast|              1802|       997|     TRAFFIC COLLISION|                0605|        23|         M|             H|         101|             STREET|88TH             ...|MAIN             ...|\"{'longitude': '-...| \"\"city\"\": \"\"\"\"| \"\"state\"\": \"\"\"\"|    \"\"zip\"\": \"\"\"\"}'| 'latitude': '33....|            22352|                              800|\n",
      "|191616980|2019-11-30 00:00:00|2019-11-30T00:00:...|         0720|     16|   Foothill|              1689|       997|     TRAFFIC COLLISION|                NULL|      NULL|         M|             H|         101|             STREET|            CROCKETT|             SUNLAND|\"{'longitude': '-...| \"\"city\"\": \"\"\"\"| \"\"state\"\": \"\"\"\"|    \"\"zip\"\": \"\"\"\"}'| 'latitude': '34....|            19335|                              166|\n",
      "|191824078|2019-11-30 00:00:00|2019-11-30T00:00:...|         1050|     18|  Southeast|              1836|       997|     TRAFFIC COLLISION|4025 3037 3004 30...|        54|         F|             B|         101|             STREET|COMPTON          ...|109TH            ...|\"{'longitude': '-...| \"\"city\"\": \"\"\"\"| \"\"state\"\": \"\"\"\"|    \"\"zip\"\": \"\"\"\"}'| 'latitude': '33....|            24354|                              817|\n",
      "|190417458|2019-11-30 00:00:00|2019-11-30T00:00:...|         0130|     04| Hollenbeck|              0411|       997|     TRAFFIC COLLISION|                0605|        33|         F|             B|         101|             STREET|            BROADWAY|PASADENA         ...|\"{'longitude': '-...| \"\"city\"\": \"\"\"\"| \"\"state\"\": \"\"\"\"|    \"\"zip\"\": \"\"\"\"}'| 'latitude': '34....|            23448|                              492|\n",
      "|191616985|2019-11-30 00:00:00|2019-11-30T00:00:...|         0700|     16|   Foothill|              1687|       997|     TRAFFIC COLLISION|                NULL|        35|         M|             H|         101|             STREET|TUJUNGA          ...|PENROSE          ...|\"{'longitude': '-...| \"\"city\"\": \"\"\"\"| \"\"state\"\": \"\"\"\"|    \"\"zip\"\": \"\"\"\"}'| 'latitude': '34....|            19335|                              162|\n",
      "|191718751|2019-11-30 00:00:00|2019-11-30T00:00:...|         1230|     17| Devonshire|              1775|       997|     TRAFFIC COLLISION|                NULL|        51|         M|             O|         101|             STREET|                WISH|           VINCENNES|\"{'longitude': '-...| \"\"city\"\": \"\"\"\"| \"\"state\"\": \"\"\"\"|    \"\"zip\"\": \"\"\"\"}'| 'latitude': '34....|            18514|                              104|\n",
      "|191718743|2019-11-30 00:00:00|2019-11-30T00:00:...|         0010|     17| Devonshire|              1737|       997|     TRAFFIC COLLISION|                NULL|        23|         F|             H|         101|             STREET|         HAYVENHURST|SAN FERNANDO MISSION|\"{'longitude': '-...| \"\"city\"\": \"\"\"\"| \"\"state\"\": \"\"\"\"|    \"\"zip\"\": \"\"\"\"}'| 'latitude': '34....|            19329|                               78|\n",
      "|191824080|2019-11-30 00:00:00|2019-11-30T00:00:...|         0945|     18|  Southeast|              1842|       997|     TRAFFIC COLLISION|4025 0101 3028 30...|        26|         M|             H|         101|             STREET|111TH            ...|MAIN             ...|\"{'longitude': '-...| \"\"city\"\": \"\"\"\"| \"\"state\"\": \"\"\"\"|    \"\"zip\"\": \"\"\"\"}'| 'latitude': '33....|            24355|                              812|\n",
      "|190720157|2019-11-29 00:00:00|2019-11-29T00:00:...|         1115|     07|   Wilshire|              0766|       997|     TRAFFIC COLLISION|                NULL|        17|         M|             H|         101|             STREET|VENICE           ...|LA FAYETTE       ...|\"{'longitude': '-...| \"\"city\"\": \"\"\"\"| \"\"state\"\": \"\"\"\"|    \"\"zip\"\": \"\"\"\"}'| 'latitude': '34....|            23080|                              651|\n",
      "|190518783|2019-11-29 00:00:00|2019-11-29T00:00:...|         0650|     05|     Harbor|              0515|       997|     TRAFFIC COLLISION|4025 3036 3004 30...|        44|         F|             H|         101|             STREET|AVALON           ...|R                ...|\"{'longitude': '-...| \"\"city\"\": \"\"\"\"| \"\"state\"\": \"\"\"\"|    \"\"zip\"\": \"\"\"\"}'| 'latitude': '33....|             3350|                              952|\n",
      "|192119165|2019-11-29 00:00:00|2019-11-29T00:00:...|         1005|     21|    Topanga|              2143|       997|     TRAFFIC COLLISION|                NULL|        58|         M|             A|         101|             STREET|22800    VICTORY ...|                NULL|\"{'longitude': '-...| \"\"city\"\": \"\"\"\"| \"\"state\"\": \"\"\"\"|    \"\"zip\"\": \"\"\"\"}'| 'latitude': '34....|            19347|                              300|\n",
      "|191018309|2019-11-29 00:00:00|2019-11-29T00:00:...|         0710|     10|West Valley|              1035|       997|     TRAFFIC COLLISION|                NULL|        99|         X|             X|         101|             STREET|VICTORY          ...|WHITE OAK        ...|\"{'longitude': '-...| \"\"city\"\": \"\"\"\"| \"\"state\"\": \"\"\"\"|    \"\"zip\"\": \"\"\"\"}'| 'latitude': '34....|             4286|                             NULL|\n",
      "|192119188|2019-11-29 00:00:00|2019-11-29T00:00:...|         1800|     21|    Topanga|              2126|       997|     TRAFFIC COLLISION|                NULL|        22|         M|             H|         101|             STREET|DE SOTO          ...|STRATHERN        ...|\"{'longitude': '-...| \"\"city\"\": \"\"\"\"| \"\"state\"\": \"\"\"\"|    \"\"zip\"\": \"\"\"\"}'| 'latitude': '34....|             4282|                              276|\n",
      "|191018335|2019-11-29 00:00:00|2019-11-29T00:00:...|         1600|     10|West Valley|              1023|       997|     TRAFFIC COLLISION|                NULL|        29|         M|             H|         101|             STREET|6600    TAMPA    ...|                NULL|\"{'longitude': '-...| \"\"city\"\": \"\"\"\"| \"\"state\"\": \"\"\"\"|    \"\"zip\"\": \"\"\"\"}'| 'latitude': '34....|            18909|                              269|\n",
      "|191616964|2019-11-29 00:00:00|2019-11-29T00:00:...|         0645|     16|   Foothill|              1602|       997|     TRAFFIC COLLISION|                NULL|        28|         M|             H|         101|             STREET|FILMORE          ...|DRONFIELD        ...|\"{'longitude': '-...| \"\"city\"\": \"\"\"\"| \"\"state\"\": \"\"\"\"|    \"\"zip\"\": \"\"\"\"}'| 'latitude': '34....|            18907|                               22|\n",
      "|190222525|2019-11-29 00:00:00|2019-11-29T00:00:...|         0545|     02|    Rampart|              0237|       997|     TRAFFIC COLLISION|                NULL|        38|         F|             H|         101|             STREET|3RD              ...|WITMER           ...|\"{'longitude': '-...| \"\"city\"\": \"\"\"\"| \"\"state\"\": \"\"\"\"|    \"\"zip\"\": \"\"\"\"}'| 'latitude': '34....|            23444|                              550|\n",
      "|190518807|2019-11-30 00:00:00|2019-11-29T00:00:...|         2220|     05|     Harbor|              0515|       997|     TRAFFIC COLLISION|                NULL|        44|         F|             H|         101|             STREET|               FRIES|PACIFIC COAST    ...|\"{'longitude': '-...| \"\"city\"\": \"\"\"\"| \"\"state\"\": \"\"\"\"|    \"\"zip\"\": \"\"\"\"}'| 'latitude': '33....|             3350|                              954|\n",
      "+---------+-------------------+--------------------+-------------+-------+-----------+------------------+----------+----------------------+--------------------+----------+----------+--------------+------------+-------------------+--------------------+--------------------+--------------------+---------------+----------------+-------------------+--------------------+-----------------+---------------------------------+\n",
      "only showing top 20 rows\n",
      "\n"
     ]
    }
   ],
   "source": [
    "df.show()"
   ]
  },
  {
   "cell_type": "markdown",
   "metadata": {},
   "source": [
    "## Preprocessing"
   ]
  },
  {
   "cell_type": "code",
   "execution_count": 8,
   "metadata": {
    "id": "-vJS7xyUx_VF"
   },
   "outputs": [],
   "source": [
    "# prompt: drop the DR number column\n",
    "\n",
    "df = df.drop('DR Number')\n"
   ]
  },
  {
   "cell_type": "code",
   "execution_count": 9,
   "metadata": {
    "colab": {
     "base_uri": "https://localhost:8080/"
    },
    "id": "izo8qwkxyWKO",
    "outputId": "2b5ba936-6fdc-4ba3-a8c9-cb7bfb3dc3b2"
   },
   "outputs": [
    {
     "name": "stdout",
     "output_type": "stream",
     "text": [
      "+-------------------+--------------------+-------------+-------+-----------+------------------+----------+----------------------+--------------------+----------+----------+--------------+------------+-------------------+--------------------+--------------------+--------------------+---------------+----------------+-------------------+--------------------+-----------------+---------------------------------+\n",
      "|      Date Reported|       Date Occurred|Time Occurred|Area ID|  Area Name|Reporting District|Crime Code|Crime Code Description|            MO Codes|Victim Age|Victim Sex|Victim Descent|Premise Code|Premise Description|             Address|        Cross Street|            Location|      Zip Codes|   Census Tracts|Precinct Boundaries|   LA Specific Plans|Council Districts|Neighborhood Councils (Certified)|\n",
      "+-------------------+--------------------+-------------+-------+-----------+------------------+----------+----------------------+--------------------+----------+----------+--------------+------------+-------------------+--------------------+--------------------+--------------------+---------------+----------------+-------------------+--------------------+-----------------+---------------------------------+\n",
      "|2019-11-30 00:00:00|2019-11-30T00:00:...|         0130|     13|     Newton|              1385|       997|     TRAFFIC COLLISION|                NULL|      NULL|         F|             H|         101|             STREET|SAN PEDRO        ...|SLAUSON          ...|\"{'longitude': '-...| \"\"city\"\": \"\"\"\"| \"\"state\"\": \"\"\"\"|    \"\"zip\"\": \"\"\"\"}'| 'latitude': '33....|            22352|                              786|\n",
      "|2019-11-30 00:00:00|2019-11-30T00:00:...|         0015|     20|    Olympic|              2054|       997|     TRAFFIC COLLISION|                NULL|        40|         M|             W|         101|             STREET|OLYMPIC          ...|KINGSLEY         ...|\"{'longitude': '-...| \"\"city\"\": \"\"\"\"| \"\"state\"\": \"\"\"\"|    \"\"zip\"\": \"\"\"\"}'| 'latitude': '34....|            22723|                              617|\n",
      "|2019-11-30 00:00:00|2019-11-30T00:00:...|         0230|     16|   Foothill|              1669|       997|     TRAFFIC COLLISION|                NULL|        18|         M|             W|         101|             STREET|TUJUNGA CANYON   ...|LA TUNA CANYON   ...|\"{'longitude': '-...| \"\"city\"\": \"\"\"\"| \"\"state\"\": \"\"\"\"|    \"\"zip\"\": \"\"\"\"}'| 'latitude': '34....|             3222|                                5|\n",
      "|2019-11-30 00:00:00|2019-11-30T00:00:...|         0730|     18|  Southeast|              1802|       997|     TRAFFIC COLLISION|                0605|        23|         M|             H|         101|             STREET|88TH             ...|MAIN             ...|\"{'longitude': '-...| \"\"city\"\": \"\"\"\"| \"\"state\"\": \"\"\"\"|    \"\"zip\"\": \"\"\"\"}'| 'latitude': '33....|            22352|                              800|\n",
      "|2019-11-30 00:00:00|2019-11-30T00:00:...|         0720|     16|   Foothill|              1689|       997|     TRAFFIC COLLISION|                NULL|      NULL|         M|             H|         101|             STREET|            CROCKETT|             SUNLAND|\"{'longitude': '-...| \"\"city\"\": \"\"\"\"| \"\"state\"\": \"\"\"\"|    \"\"zip\"\": \"\"\"\"}'| 'latitude': '34....|            19335|                              166|\n",
      "|2019-11-30 00:00:00|2019-11-30T00:00:...|         1050|     18|  Southeast|              1836|       997|     TRAFFIC COLLISION|4025 3037 3004 30...|        54|         F|             B|         101|             STREET|COMPTON          ...|109TH            ...|\"{'longitude': '-...| \"\"city\"\": \"\"\"\"| \"\"state\"\": \"\"\"\"|    \"\"zip\"\": \"\"\"\"}'| 'latitude': '33....|            24354|                              817|\n",
      "|2019-11-30 00:00:00|2019-11-30T00:00:...|         0130|     04| Hollenbeck|              0411|       997|     TRAFFIC COLLISION|                0605|        33|         F|             B|         101|             STREET|            BROADWAY|PASADENA         ...|\"{'longitude': '-...| \"\"city\"\": \"\"\"\"| \"\"state\"\": \"\"\"\"|    \"\"zip\"\": \"\"\"\"}'| 'latitude': '34....|            23448|                              492|\n",
      "|2019-11-30 00:00:00|2019-11-30T00:00:...|         0700|     16|   Foothill|              1687|       997|     TRAFFIC COLLISION|                NULL|        35|         M|             H|         101|             STREET|TUJUNGA          ...|PENROSE          ...|\"{'longitude': '-...| \"\"city\"\": \"\"\"\"| \"\"state\"\": \"\"\"\"|    \"\"zip\"\": \"\"\"\"}'| 'latitude': '34....|            19335|                              162|\n",
      "|2019-11-30 00:00:00|2019-11-30T00:00:...|         1230|     17| Devonshire|              1775|       997|     TRAFFIC COLLISION|                NULL|        51|         M|             O|         101|             STREET|                WISH|           VINCENNES|\"{'longitude': '-...| \"\"city\"\": \"\"\"\"| \"\"state\"\": \"\"\"\"|    \"\"zip\"\": \"\"\"\"}'| 'latitude': '34....|            18514|                              104|\n",
      "|2019-11-30 00:00:00|2019-11-30T00:00:...|         0010|     17| Devonshire|              1737|       997|     TRAFFIC COLLISION|                NULL|        23|         F|             H|         101|             STREET|         HAYVENHURST|SAN FERNANDO MISSION|\"{'longitude': '-...| \"\"city\"\": \"\"\"\"| \"\"state\"\": \"\"\"\"|    \"\"zip\"\": \"\"\"\"}'| 'latitude': '34....|            19329|                               78|\n",
      "|2019-11-30 00:00:00|2019-11-30T00:00:...|         0945|     18|  Southeast|              1842|       997|     TRAFFIC COLLISION|4025 0101 3028 30...|        26|         M|             H|         101|             STREET|111TH            ...|MAIN             ...|\"{'longitude': '-...| \"\"city\"\": \"\"\"\"| \"\"state\"\": \"\"\"\"|    \"\"zip\"\": \"\"\"\"}'| 'latitude': '33....|            24355|                              812|\n",
      "|2019-11-29 00:00:00|2019-11-29T00:00:...|         1115|     07|   Wilshire|              0766|       997|     TRAFFIC COLLISION|                NULL|        17|         M|             H|         101|             STREET|VENICE           ...|LA FAYETTE       ...|\"{'longitude': '-...| \"\"city\"\": \"\"\"\"| \"\"state\"\": \"\"\"\"|    \"\"zip\"\": \"\"\"\"}'| 'latitude': '34....|            23080|                              651|\n",
      "|2019-11-29 00:00:00|2019-11-29T00:00:...|         0650|     05|     Harbor|              0515|       997|     TRAFFIC COLLISION|4025 3036 3004 30...|        44|         F|             H|         101|             STREET|AVALON           ...|R                ...|\"{'longitude': '-...| \"\"city\"\": \"\"\"\"| \"\"state\"\": \"\"\"\"|    \"\"zip\"\": \"\"\"\"}'| 'latitude': '33....|             3350|                              952|\n",
      "|2019-11-29 00:00:00|2019-11-29T00:00:...|         1005|     21|    Topanga|              2143|       997|     TRAFFIC COLLISION|                NULL|        58|         M|             A|         101|             STREET|22800    VICTORY ...|                NULL|\"{'longitude': '-...| \"\"city\"\": \"\"\"\"| \"\"state\"\": \"\"\"\"|    \"\"zip\"\": \"\"\"\"}'| 'latitude': '34....|            19347|                              300|\n",
      "|2019-11-29 00:00:00|2019-11-29T00:00:...|         0710|     10|West Valley|              1035|       997|     TRAFFIC COLLISION|                NULL|        99|         X|             X|         101|             STREET|VICTORY          ...|WHITE OAK        ...|\"{'longitude': '-...| \"\"city\"\": \"\"\"\"| \"\"state\"\": \"\"\"\"|    \"\"zip\"\": \"\"\"\"}'| 'latitude': '34....|             4286|                             NULL|\n",
      "|2019-11-29 00:00:00|2019-11-29T00:00:...|         1800|     21|    Topanga|              2126|       997|     TRAFFIC COLLISION|                NULL|        22|         M|             H|         101|             STREET|DE SOTO          ...|STRATHERN        ...|\"{'longitude': '-...| \"\"city\"\": \"\"\"\"| \"\"state\"\": \"\"\"\"|    \"\"zip\"\": \"\"\"\"}'| 'latitude': '34....|             4282|                              276|\n",
      "|2019-11-29 00:00:00|2019-11-29T00:00:...|         1600|     10|West Valley|              1023|       997|     TRAFFIC COLLISION|                NULL|        29|         M|             H|         101|             STREET|6600    TAMPA    ...|                NULL|\"{'longitude': '-...| \"\"city\"\": \"\"\"\"| \"\"state\"\": \"\"\"\"|    \"\"zip\"\": \"\"\"\"}'| 'latitude': '34....|            18909|                              269|\n",
      "|2019-11-29 00:00:00|2019-11-29T00:00:...|         0645|     16|   Foothill|              1602|       997|     TRAFFIC COLLISION|                NULL|        28|         M|             H|         101|             STREET|FILMORE          ...|DRONFIELD        ...|\"{'longitude': '-...| \"\"city\"\": \"\"\"\"| \"\"state\"\": \"\"\"\"|    \"\"zip\"\": \"\"\"\"}'| 'latitude': '34....|            18907|                               22|\n",
      "|2019-11-29 00:00:00|2019-11-29T00:00:...|         0545|     02|    Rampart|              0237|       997|     TRAFFIC COLLISION|                NULL|        38|         F|             H|         101|             STREET|3RD              ...|WITMER           ...|\"{'longitude': '-...| \"\"city\"\": \"\"\"\"| \"\"state\"\": \"\"\"\"|    \"\"zip\"\": \"\"\"\"}'| 'latitude': '34....|            23444|                              550|\n",
      "|2019-11-30 00:00:00|2019-11-29T00:00:...|         2220|     05|     Harbor|              0515|       997|     TRAFFIC COLLISION|                NULL|        44|         F|             H|         101|             STREET|               FRIES|PACIFIC COAST    ...|\"{'longitude': '-...| \"\"city\"\": \"\"\"\"| \"\"state\"\": \"\"\"\"|    \"\"zip\"\": \"\"\"\"}'| 'latitude': '33....|             3350|                              954|\n",
      "+-------------------+--------------------+-------------+-------+-----------+------------------+----------+----------------------+--------------------+----------+----------+--------------+------------+-------------------+--------------------+--------------------+--------------------+---------------+----------------+-------------------+--------------------+-----------------+---------------------------------+\n",
      "only showing top 20 rows\n",
      "\n"
     ]
    }
   ],
   "source": [
    "df.show()"
   ]
  },
  {
   "cell_type": "code",
   "execution_count": 10,
   "metadata": {
    "colab": {
     "base_uri": "https://localhost:8080/",
     "height": 187
    },
    "id": "Wb5t8HtSyXTk",
    "outputId": "70c0487e-17f1-481f-8aab-9c2cf2f5d258"
   },
   "outputs": [
    {
     "data": {
      "text/html": [
       "<div style=\"max-width:800px; border: 1px solid var(--colab-border-color);\"><style>\n",
       "      pre.function-repr-contents {\n",
       "        overflow-x: auto;\n",
       "        padding: 8px 12px;\n",
       "        max-height: 500px;\n",
       "      }\n",
       "\n",
       "      pre.function-repr-contents.function-repr-contents-collapsed {\n",
       "        cursor: pointer;\n",
       "        max-height: 100px;\n",
       "      }\n",
       "    </style>\n",
       "    <pre style=\"white-space: initial; background:\n",
       "         var(--colab-secondary-surface-color); padding: 8px 12px;\n",
       "         border-bottom: 1px solid var(--colab-border-color);\"><b>pyspark.sql.dataframe.DataFrame.summary</b><br/>def summary(*statistics: str) -&gt; &#x27;DataFrame&#x27;</pre><pre class=\"function-repr-contents function-repr-contents-collapsed\" style=\"\"><a class=\"filepath\" style=\"display:none\" href=\"#\">/usr/local/lib/python3.10/dist-packages/pyspark/sql/dataframe.py</a>Computes specified statistics for numeric and string columns. Available statistics are:\n",
       "- count\n",
       "- mean\n",
       "- stddev\n",
       "- min\n",
       "- max\n",
       "- arbitrary approximate percentiles specified as a percentage (e.g., 75%)\n",
       "\n",
       "If no statistics are given, this function computes count, mean, stddev, min,\n",
       "approximate quartiles (percentiles at 25%, 50%, and 75%), and max.\n",
       "\n",
       ".. versionadded:: 2.3.0\n",
       "\n",
       ".. versionchanged:: 3.4.0\n",
       "    Supports Spark Connect.\n",
       "\n",
       "Parameters\n",
       "----------\n",
       "statistics : str, optional\n",
       "     Column names to calculate statistics by (default All columns).\n",
       "\n",
       "Returns\n",
       "-------\n",
       ":class:`DataFrame`\n",
       "    A new DataFrame that provides statistics for the given DataFrame.\n",
       "\n",
       "Notes\n",
       "-----\n",
       "This function is meant for exploratory data analysis, as we make no\n",
       "guarantee about the backward compatibility of the schema of the resulting\n",
       ":class:`DataFrame`.\n",
       "\n",
       "Examples\n",
       "--------\n",
       "&gt;&gt;&gt; df = spark.createDataFrame(\n",
       "...     [(&quot;Bob&quot;, 13, 40.3, 150.5), (&quot;Alice&quot;, 12, 37.8, 142.3), (&quot;Tom&quot;, 11, 44.1, 142.2)],\n",
       "...     [&quot;name&quot;, &quot;age&quot;, &quot;weight&quot;, &quot;height&quot;],\n",
       "... )\n",
       "&gt;&gt;&gt; df.select(&quot;age&quot;, &quot;weight&quot;, &quot;height&quot;).summary().show()\n",
       "+-------+----+------------------+-----------------+\n",
       "|summary| age|            weight|           height|\n",
       "+-------+----+------------------+-----------------+\n",
       "|  count|   3|                 3|                3|\n",
       "|   mean|12.0| 40.73333333333333|            145.0|\n",
       "| stddev| 1.0|3.1722757341273704|4.763402145525822|\n",
       "|    min|  11|              37.8|            142.2|\n",
       "|    25%|  11|              37.8|            142.2|\n",
       "|    50%|  12|              40.3|            142.3|\n",
       "|    75%|  13|              44.1|            150.5|\n",
       "|    max|  13|              44.1|            150.5|\n",
       "+-------+----+------------------+-----------------+\n",
       "\n",
       "&gt;&gt;&gt; df.select(&quot;age&quot;, &quot;weight&quot;, &quot;height&quot;).summary(&quot;count&quot;, &quot;min&quot;, &quot;25%&quot;, &quot;75%&quot;, &quot;max&quot;).show()\n",
       "+-------+---+------+------+\n",
       "|summary|age|weight|height|\n",
       "+-------+---+------+------+\n",
       "|  count|  3|     3|     3|\n",
       "|    min| 11|  37.8| 142.2|\n",
       "|    25%| 11|  37.8| 142.2|\n",
       "|    75%| 13|  44.1| 150.5|\n",
       "|    max| 13|  44.1| 150.5|\n",
       "+-------+---+------+------+\n",
       "\n",
       "See Also\n",
       "--------\n",
       "DataFrame.display</pre>\n",
       "      <script>\n",
       "      if (google.colab.kernel.accessAllowed && google.colab.files && google.colab.files.view) {\n",
       "        for (const element of document.querySelectorAll('.filepath')) {\n",
       "          element.style.display = 'block'\n",
       "          element.onclick = (event) => {\n",
       "            event.preventDefault();\n",
       "            event.stopPropagation();\n",
       "            google.colab.files.view(element.textContent, 2857);\n",
       "          };\n",
       "        }\n",
       "      }\n",
       "      for (const element of document.querySelectorAll('.function-repr-contents')) {\n",
       "        element.onclick = (event) => {\n",
       "          event.preventDefault();\n",
       "          event.stopPropagation();\n",
       "          element.classList.toggle('function-repr-contents-collapsed');\n",
       "        };\n",
       "      }\n",
       "      </script>\n",
       "      </div>"
      ],
      "text/plain": [
       "<bound method DataFrame.summary of DataFrame[Date Reported: timestamp, Date Occurred: string, Time Occurred: string, Area ID: string, Area Name: string, Reporting District: string, Crime Code: int, Crime Code Description: string, MO Codes: string, Victim Age: string, Victim Sex: string, Victim Descent: string, Premise Code: string, Premise Description: string, Address: string, Cross Street: string, Location: string, Zip Codes: string, Census Tracts: string, Precinct Boundaries: string, LA Specific Plans: string, Council Districts: string, Neighborhood Councils (Certified): string]>"
      ]
     },
     "execution_count": 10,
     "metadata": {},
     "output_type": "execute_result"
    }
   ],
   "source": [
    "df.summary"
   ]
  },
  {
   "cell_type": "code",
   "execution_count": 13,
   "metadata": {
    "colab": {
     "base_uri": "https://localhost:8080/"
    },
    "id": "103a7DjRygrD",
    "outputId": "cb2c735e-61f8-4d43-8a66-d8e1f2760f6c"
   },
   "outputs": [
    {
     "name": "stdout",
     "output_type": "stream",
     "text": [
      "root\n",
      " |-- Date Reported: timestamp (nullable = true)\n",
      " |-- Date Occurred: string (nullable = true)\n",
      " |-- Time Occurred: string (nullable = true)\n",
      " |-- Area ID: string (nullable = true)\n",
      " |-- Area Name: string (nullable = true)\n",
      " |-- Reporting District: string (nullable = true)\n",
      " |-- Crime Code: integer (nullable = true)\n",
      " |-- Crime Code Description: string (nullable = true)\n",
      " |-- MO Codes: string (nullable = true)\n",
      " |-- Victim Age: string (nullable = true)\n",
      " |-- Victim Sex: string (nullable = true)\n",
      " |-- Victim Descent: string (nullable = true)\n",
      " |-- Premise Code: string (nullable = true)\n",
      " |-- Premise Description: string (nullable = true)\n",
      " |-- Address: string (nullable = true)\n",
      " |-- Cross Street: string (nullable = true)\n",
      " |-- Location: string (nullable = true)\n",
      " |-- Zip Codes: string (nullable = true)\n",
      " |-- Census Tracts: string (nullable = true)\n",
      " |-- Precinct Boundaries: string (nullable = true)\n",
      " |-- LA Specific Plans: string (nullable = true)\n",
      " |-- Council Districts: string (nullable = true)\n",
      " |-- Neighborhood Councils (Certified): string (nullable = true)\n",
      "\n"
     ]
    }
   ],
   "source": [
    "# prompt: print Schema\n",
    "\n",
    "df.printSchema()\n"
   ]
  },
  {
   "cell_type": "code",
   "execution_count": 14,
   "metadata": {
    "colab": {
     "base_uri": "https://localhost:8080/"
    },
    "id": "0GBnnwuvyw7x",
    "outputId": "1eda96a1-86f2-48e9-a00e-5a3a1c5a8206"
   },
   "outputs": [
    {
     "name": "stdout",
     "output_type": "stream",
     "text": [
      "Number of rows: 294684\n",
      "Number of columns: 23\n"
     ]
    }
   ],
   "source": [
    "# prompt: see the shape of a dataframe\n",
    "\n",
    "print(f\"Number of rows: {df.count()}\")\n",
    "print(f\"Number of columns: {len(df.columns)}\")\n"
   ]
  },
  {
   "cell_type": "code",
   "execution_count": 15,
   "metadata": {
    "colab": {
     "base_uri": "https://localhost:8080/"
    },
    "id": "BOu5VukhzZyl",
    "outputId": "93bb985c-5bbd-42ce-a004-3883c0d27ea0"
   },
   "outputs": [
    {
     "name": "stdout",
     "output_type": "stream",
     "text": [
      "+-------+----------+\n",
      "|Area ID|Victim Age|\n",
      "+-------+----------+\n",
      "|     13|      NULL|\n",
      "|     20|        40|\n",
      "|     16|        18|\n",
      "|     18|        23|\n",
      "|     16|      NULL|\n",
      "|     18|        54|\n",
      "|     04|        33|\n",
      "|     16|        35|\n",
      "|     17|        51|\n",
      "|     17|        23|\n",
      "|     18|        26|\n",
      "|     07|        17|\n",
      "|     05|        44|\n",
      "|     21|        58|\n",
      "|     10|        99|\n",
      "|     21|        22|\n",
      "|     10|        29|\n",
      "|     16|        28|\n",
      "|     02|        38|\n",
      "|     05|        44|\n",
      "+-------+----------+\n",
      "only showing top 20 rows\n",
      "\n"
     ]
    }
   ],
   "source": [
    "# prompt: select two columns area id and victim age\n",
    "\n",
    "df.select('Area ID', 'Victim Age').show()\n"
   ]
  },
  {
   "cell_type": "code",
   "execution_count": 16,
   "metadata": {
    "colab": {
     "base_uri": "https://localhost:8080/"
    },
    "id": "1yZN2LbGzkMD",
    "outputId": "57309829-255e-4b88-b39b-8afcb9ea15b0"
   },
   "outputs": [
    {
     "name": "stdout",
     "output_type": "stream",
     "text": [
      "+-------+----------+\n",
      "|Area ID|Victim Age|\n",
      "+-------+----------+\n",
      "|     07|        17|\n",
      "|     09|        17|\n",
      "|     09|        17|\n",
      "|     03|        17|\n",
      "|     19|        17|\n",
      "|     20|        17|\n",
      "|     15|        17|\n",
      "|     03|        17|\n",
      "|     17|        17|\n",
      "|     21|        17|\n",
      "|     03|        17|\n",
      "|     17|        17|\n",
      "|     08|        17|\n",
      "|     13|        17|\n",
      "|     21|        17|\n",
      "|     13|        17|\n",
      "|     09|        17|\n",
      "|     07|        17|\n",
      "|     15|        17|\n",
      "|     06|        17|\n",
      "+-------+----------+\n",
      "only showing top 20 rows\n",
      "\n"
     ]
    }
   ],
   "source": [
    "# prompt: select those records where the victin age  is 17\n",
    "\n",
    "df.select('Area ID', 'Victim Age').where(df['Victim Age'] == 17).show()\n"
   ]
  },
  {
   "cell_type": "code",
   "execution_count": 18,
   "metadata": {
    "colab": {
     "base_uri": "https://localhost:8080/"
    },
    "id": "OIX_bYhi4pgk",
    "outputId": "dbc42157-4e9f-41c2-b5c5-60fb130e9b52"
   },
   "outputs": [
    {
     "name": "stdout",
     "output_type": "stream",
     "text": [
      "+-------------------+--------------------+-------------+-------+-----------+------------------+----------+----------------------+--------------------+----------+----------+--------------+------------+-------------------+--------------------+--------------------+--------------------+---------------+----------------+-------------------+--------------------+-----------------+---------------------------------+\n",
      "|      Date Reported|       Date Occurred|Time Occurred|Area ID|  Area Name|Reporting District|Crime Code|Crime Code Description|            MO Codes|Victim Age|Victim Sex|Victim Descent|Premise Code|Premise Description|             Address|        Cross Street|            Location|      Zip Codes|   Census Tracts|Precinct Boundaries|   LA Specific Plans|Council Districts|Neighborhood Councils (Certified)|\n",
      "+-------------------+--------------------+-------------+-------+-----------+------------------+----------+----------------------+--------------------+----------+----------+--------------+------------+-------------------+--------------------+--------------------+--------------------+---------------+----------------+-------------------+--------------------+-----------------+---------------------------------+\n",
      "|2019-11-29 00:00:00|2019-11-29T00:00:...|         1115|     07|   Wilshire|              0766|       997|     TRAFFIC COLLISION|                NULL|        17|         M|             H|         101|             STREET|VENICE           ...|LA FAYETTE       ...|\"{'longitude': '-...| \"\"city\"\": \"\"\"\"| \"\"state\"\": \"\"\"\"|    \"\"zip\"\": \"\"\"\"}'| 'latitude': '34....|            23080|                              651|\n",
      "|2019-11-29 00:00:00|2019-11-28T00:00:...|         2341|     09|   Van Nuys|              0935|       997|     TRAFFIC COLLISION|                0605|        17|         M|             O|         101|             STREET|            VAN NUYS|VICTORY          ...|\"{'longitude': '-...| \"\"city\"\": \"\"\"\"| \"\"state\"\": \"\"\"\"|    \"\"zip\"\": \"\"\"\"}'| 'latitude': '34....|            19729|                              236|\n",
      "|2019-11-20 00:00:00|2019-11-20T00:00:...|         1640|     09|   Van Nuys|              0929|       997|     TRAFFIC COLLISION|                NULL|        17|         F|             W|         101|             STREET|VICTORY          ...|FULTON           ...|\"{'longitude': '-...| \"\"city\"\": \"\"\"\"| \"\"state\"\": \"\"\"\"|    \"\"zip\"\": \"\"\"\"}'| 'latitude': '34....|            19729|                              184|\n",
      "|2019-11-18 00:00:00|2019-11-18T00:00:...|         1625|     03|  Southwest|              0333|       997|     TRAFFIC COLLISION|4025 3036 3004 30...|        17|         F|             B|         101|             STREET|CRENSHAW         ...|30TH             ...|\"{'longitude': '-...| \"\"city\"\": \"\"\"\"| \"\"state\"\": \"\"\"\"|    \"\"zip\"\": \"\"\"\"}'| 'latitude': '34....|            23079|                              668|\n",
      "|2019-11-15 00:00:00|2019-11-15T00:00:...|         1820|     19|    Mission|              1956|       997|     TRAFFIC COLLISION|                NULL|        17|         M|             W|         101|             STREET|             WOODMAN|          DEVONSHIRE|\"{'longitude': '-...| \"\"city\"\": \"\"\"\"| \"\"state\"\": \"\"\"\"|    \"\"zip\"\": \"\"\"\"}'| 'latitude': '34....|            19330|                               72|\n",
      "|2019-11-14 00:00:00|2019-11-14T00:00:...|         2222|     20|    Olympic|              2064|       997|     TRAFFIC COLLISION|3003 3026 3029 30...|        17|         F|             H|         101|             STREET|HOOVER           ...|8TH              ...|\"{'longitude': '-...| \"\"city\"\": \"\"\"\"| \"\"state\"\": \"\"\"\"|    \"\"zip\"\": \"\"\"\"}'| 'latitude': '34....|            22723|                              618|\n",
      "|2019-11-14 00:00:00|2019-11-14T00:00:...|         0935|     15|N Hollywood|              1566|       997|     TRAFFIC COLLISION|                NULL|        17|         M|             B|         101|             STREET|VINELAND         ...|RIVERSIDE        ...|\"{'longitude': '-...| \"\"city\"\": \"\"\"\"| \"\"state\"\": \"\"\"\"|    \"\"zip\"\": \"\"\"\"}'| 'latitude': '34....|             8489|                              343|\n",
      "|2019-11-11 00:00:00|2019-11-11T00:00:...|         1500|     03|  Southwest|              0311|       997|     TRAFFIC COLLISION|4025 3037 3004 30...|        17|         M|             B|         101|             STREET|              HAUSER|                GEER|\"{'longitude': '-...| \"\"city\"\": \"\"\"\"| \"\"state\"\": \"\"\"\"|    \"\"zip\"\": \"\"\"\"}'| 'latitude': '34....|            23077|                              666|\n",
      "|2019-05-09 00:00:00|2019-05-09T00:00:...|         2030|     17| Devonshire|              1701|       997|     TRAFFIC COLLISION|3004 3030 3028 31...|        17|         M|             W|         101|             STREET|PORTER RANCH     ...|RINALDI          ...|\"{'longitude': '-...| \"\"city\"\": \"\"\"\"| \"\"state\"\": \"\"\"\"|    \"\"zip\"\": \"\"\"\"}'| 'latitude': '34....|            18905|                               66|\n",
      "|2019-05-09 00:00:00|2019-05-09T00:00:...|         2000|     21|    Topanga|              2113|       997|     TRAFFIC COLLISION|3004 3037 3029 30...|        17|         F|             W|         101|             STREET|SATICOY          ...|TOPANGA CANYON   ...|\"{'longitude': '-...| \"\"city\"\": \"\"\"\"| \"\"state\"\": \"\"\"\"|    \"\"zip\"\": \"\"\"\"}'| 'latitude': '34....|             4279|                              277|\n",
      "|2019-05-05 00:00:00|2019-05-05T00:00:...|         1240|     03|  Southwest|              0338|       997|     TRAFFIC COLLISION|4003 3036 3008 30...|        17|         M|             H|         101|             STREET|WALTON           ...|30TH             ...|\"{'longitude': '-...| \"\"city\"\": \"\"\"\"| \"\"state\"\": \"\"\"\"|    \"\"zip\"\": \"\"\"\"}'| 'latitude': '34....|            22724|                              685|\n",
      "|2019-04-28 00:00:00|2019-04-28T00:00:...|         2040|     17| Devonshire|              1752|       997|     TRAFFIC COLLISION|3036 3101 3003 30...|        17|         M|             H|         101|             STREET|CANOGA           ...|LASSEN           ...|\"{'longitude': '-...| \"\"city\"\": \"\"\"\"| \"\"state\"\": \"\"\"\"|    \"\"zip\"\": \"\"\"\"}'| 'latitude': '34....|             4284|                             NULL|\n",
      "|2019-04-26 00:00:00|2019-04-26T00:00:...|         2030|     08|    West LA|              0801|       997|     TRAFFIC COLLISION|3004 3028 3030 30...|        17|         M|             A|         101|             STREET|CASTELLAMMARE    ...|TRAMONTO         ...|\"{'longitude': '-...| \"\"city\"\": \"\"\"\"| \"\"state\"\": \"\"\"\"|    \"\"zip\"\": \"\"\"\"}'| 'latitude': '34....|            25066|                             2332|\n",
      "|2019-11-06 00:00:00|2019-11-06T00:00:...|         0700|     13|     Newton|              1344|       997|     TRAFFIC COLLISION|3101 3401 3701 30...|        17|         F|             H|         101|             STREET|41ST             ...|MCKINLEY         ...|\"{'longitude': '-...| \"\"city\"\": \"\"\"\"| \"\"state\"\": \"\"\"\"|    \"\"zip\"\": \"\"\"\"}'| 'latitude': '34....|            22727|                              713|\n",
      "|2019-11-07 00:00:00|2019-11-06T00:00:...|         1740|     21|    Topanga|              2136|       997|     TRAFFIC COLLISION|3003 3036 3029 30...|        17|         M|             H|         101|             STREET|SATICOY          ...|DEERING          ...|\"{'longitude': '-...| \"\"city\"\": \"\"\"\"| \"\"state\"\": \"\"\"\"|    \"\"zip\"\": \"\"\"\"}'| 'latitude': '34....|             4278|                              276|\n",
      "|2019-11-04 00:00:00|2019-11-04T00:00:...|         1220|     13|     Newton|              1343|       997|     TRAFFIC COLLISION|3401 3101 3701 30...|        17|         M|             H|         101|             STREET|JEFFERSON        ...|WADSWORTH        ...|\"{'longitude': '-...| \"\"city\"\": \"\"\"\"| \"\"state\"\": \"\"\"\"|    \"\"zip\"\": \"\"\"\"}'| 'latitude': '34....|            22727|                              712|\n",
      "|2019-11-01 00:00:00|2019-11-01T00:00:...|         1645|     09|   Van Nuys|              0943|       997|     TRAFFIC COLLISION|                NULL|        17|         F|             O|         101|             STREET|              OXNARD|           HAZELTINE|\"{'longitude': '-...| \"\"city\"\": \"\"\"\"| \"\"state\"\": \"\"\"\"|    \"\"zip\"\": \"\"\"\"}'| 'latitude': '34....|            19729|                              243|\n",
      "|2019-10-29 00:00:00|2019-10-29T00:00:...|         0810|     07|   Wilshire|              0749|       997|     TRAFFIC COLLISION|3003 3025 3029 30...|        17|         F|             H|         101|             STREET|CRENSHAW         ...|COUNTRY CLUB     ...|\"{'longitude': '-...| \"\"city\"\": \"\"\"\"| \"\"state\"\": \"\"\"\"|    \"\"zip\"\": \"\"\"\"}'| 'latitude': '34....|            23080|                              612|\n",
      "|2019-10-27 00:00:00|2019-10-27T00:00:...|         0945|     15|N Hollywood|              1581|       997|     TRAFFIC COLLISION|                0605|        17|         F|             W|         101|             STREET|COLDWATER CANYON ...|WOODBRIDGE       ...|\"{'longitude': '-...| \"\"city\"\": \"\"\"\"| \"\"state\"\": \"\"\"\"|    \"\"zip\"\": \"\"\"\"}'| 'latitude': '34....|             8492|                              346|\n",
      "|2019-10-27 00:00:00|2019-10-27T00:00:...|         1305|     06|  Hollywood|              0639|       997|     TRAFFIC COLLISION|3004 3025 3035 30...|        17|         M|             W|         101|             STREET|HOLLYWOOD        ...|HOBART           ...|\"{'longitude': '-...| \"\"city\"\": \"\"\"\"| \"\"state\"\": \"\"\"\"|    \"\"zip\"\": \"\"\"\"}'| 'latitude': '34....|            23445|                              419|\n",
      "+-------------------+--------------------+-------------+-------+-----------+------------------+----------+----------------------+--------------------+----------+----------+--------------+------------+-------------------+--------------------+--------------------+--------------------+---------------+----------------+-------------------+--------------------+-----------------+---------------------------------+\n",
      "only showing top 20 rows\n",
      "\n"
     ]
    }
   ],
   "source": [
    "\n",
    "df.select('*').where(df['Victim Age'] == 17).show()"
   ]
  },
  {
   "cell_type": "code",
   "execution_count": 22,
   "metadata": {
    "colab": {
     "base_uri": "https://localhost:8080/"
    },
    "id": "5Vup07z24sBH",
    "outputId": "d896e908-b3a1-42f6-c98d-69fbb5e4d205"
   },
   "outputs": [
    {
     "name": "stdout",
     "output_type": "stream",
     "text": [
      "Most crime prone area: 12\n"
     ]
    }
   ],
   "source": [
    "# prompt: find out which area is most prone to crimes\n",
    "\n",
    "most_crime_prone_area = df.groupBy('Area ID').agg(count('*').alias('total_crimes')).orderBy(desc('total_crimes')).first().asDict()['Area ID']\n",
    "print(f\"Most crime prone area: {most_crime_prone_area}\")\n"
   ]
  },
  {
   "cell_type": "code",
   "execution_count": 24,
   "metadata": {
    "colab": {
     "base_uri": "https://localhost:8080/"
    },
    "id": "00qp9Rhq57Ex",
    "outputId": "7dbfacb6-1271-4a9e-a24a-d0acaa9e7af9"
   },
   "outputs": [
    {
     "name": "stdout",
     "output_type": "stream",
     "text": [
      "Top 10 crime codes:\n",
      "\t- TRAFFIC COLLISION\n",
      "\t- 180\n"
     ]
    }
   ],
   "source": [
    "# prompt: find out top 10 crime codes\n",
    "\n",
    "top_10_crime_codes = df.groupBy('Crime Code Description').agg(count('*').alias('total_crimes')).orderBy(desc('total_crimes')).limit(10).toPandas()['Crime Code Description'].tolist()\n",
    "\n",
    "print(\"Top 10 crime codes:\")\n",
    "for code in top_10_crime_codes:\n",
    "    print(f\"\\t- {code}\")\n"
   ]
  },
  {
   "cell_type": "code",
   "execution_count": 25,
   "metadata": {
    "colab": {
     "base_uri": "https://localhost:8080/"
    },
    "id": "j_gWTj3X714Q",
    "outputId": "487aa9b3-f36a-470f-843d-a190749913ab"
   },
   "outputs": [
    {
     "name": "stdout",
     "output_type": "stream",
     "text": [
      "Top 10 victim ages:\n",
      "\t- None\n",
      "\t- 30\n",
      "\t- 25\n",
      "\t- 27\n",
      "\t- 24\n",
      "\t- 28\n",
      "\t- 26\n",
      "\t- 23\n",
      "\t- 35\n",
      "\t- 29\n"
     ]
    }
   ],
   "source": [
    "# prompt: find out top 10 victim age\n",
    "\n",
    "top_10_victim_ages = df.groupBy('Victim Age').agg(count('*').alias('total_victims')).orderBy(desc('total_victims')).limit(10).toPandas()['Victim Age'].tolist()\n",
    "\n",
    "print(\"Top 10 victim ages:\")\n",
    "for age in top_10_victim_ages:\n",
    "    print(f\"\\t- {age}\")\n"
   ]
  },
  {
   "cell_type": "markdown",
   "metadata": {},
   "source": [
    "## Visualization"
   ]
  },
  {
   "cell_type": "code",
   "execution_count": 29,
   "metadata": {
    "colab": {
     "base_uri": "https://localhost:8080/",
     "height": 521
    },
    "id": "G9Y1_0oKBf15",
    "outputId": "081f33f2-8bcf-49a3-b6cc-9508de148675"
   },
   "outputs": [
    {
     "data": {
      "image/png": "[encoded data removed]",
      "text/plain": [
       "<Figure size 1200x600 with 1 Axes>"
      ]
     },
     "metadata": {},
     "output_type": "display_data"
    }
   ],
   "source": [
    "# prompt: visualize the result of top 10 victim age in the form of a pie chart\n",
    "\n",
    "# Get the top 10 victim ages and their counts\n",
    "top_10_victim_ages = df.groupBy('Victim Age').agg(count('*').alias('total_victims')).orderBy(desc('total_victims')).limit(10).toPandas()\n",
    "\n",
    "# Create a pie chart of the top 10 victim ages\n",
    "plt.figure(figsize=(12, 6))\n",
    "plt.pie(top_10_victim_ages['total_victims'], labels=top_10_victim_ages['Victim Age'], autopct='%1.1f%%')\n",
    "plt.title('Top 10 Victim Ages')\n",
    "plt.show()\n"
   ]
  }
 ],
 "metadata": {
  "colab": {
   "provenance": []
  },
  "kernelspec": {
   "display_name": "Python 3 (ipykernel)",
   "language": "python",
   "name": "python3"
  },
  "language_info": {
   "codemirror_mode": {
    "name": "ipython",
    "version": 3
   },
   "file_extension": ".py",
   "mimetype": "text/x-python",
   "name": "python",
   "nbconvert_exporter": "python",
   "pygments_lexer": "ipython3",
   "version": "3.11.8"
  }
 },
 "nbformat": 4,
 "nbformat_minor": 4
}
